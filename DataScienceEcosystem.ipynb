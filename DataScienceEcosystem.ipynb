{
 "cells": [
  {
   "cell_type": "markdown",
   "id": "4239b026-3fae-4bd4-aead-9940f74114eb",
   "metadata": {},
   "source": [
    "# Data Science tools and Ecosystem"
   ]
  },
  {
   "cell_type": "markdown",
   "id": "99492e6f-d47c-4c41-896a-d60393fc728e",
   "metadata": {},
   "source": [
    "***In this notebook, we are going to understand about the tools that we use in the data science world and the ecosystem present in this science.***"
   ]
  },
  {
   "cell_type": "markdown",
   "id": "950facae-7f98-412f-a3ed-ceec867b5b64",
   "metadata": {},
   "source": [
    "**Objectives:**\n",
    "\n",
    "* List popular languages for Data Science\n",
    "* Learn how to use Jupyter Notebooks\n",
    "* Lear how to use Git and GitHub\n",
    "* Use R and Rstudio"
   ]
  },
  {
   "cell_type": "markdown",
   "id": "f5c3640f-acea-4466-a5a9-12eff9445832",
   "metadata": {},
   "source": [
    "*The most popular languages that we use in data science are:*\n",
    "\n",
    "    1. Python\n",
    "    2. R\n",
    "    3. C\n",
    "    4. C++\n",
    "    5. SQL\n"
   ]
  },
  {
   "cell_type": "markdown",
   "id": "40eccafd-079e-4591-80da-57055621bae7",
   "metadata": {},
   "source": [
    "*Some of the most popular data science librarys that we use are:*\n",
    "\n",
    "1. Pandas\n",
    "2. NumPy\n",
    "3. Matplotlib\n",
    "4. Scrapy\n",
    "5. Tensorflow\n",
    "6. SciPy\n",
    "\n"
   ]
  },
  {
   "cell_type": "markdown",
   "id": "dd1c5d4e-6136-47ab-9e30-e4bc873af00a",
   "metadata": {},
   "source": [
    "| Data science Tools |\n",
    "| ------------------ |\n",
    "| Apache Hadoop |\n",
    "| Apache Spark |\n",
    "| Apache Airflow |"
   ]
  },
  {
   "cell_type": "markdown",
   "id": "f8fdf754-6f2e-4ea4-9687-3a05da2f7aa2",
   "metadata": {
    "tags": []
   },
   "source": [
    "### Below we have a few examples of evaluating arithmetic expressions in Python\n",
    "\n"
   ]
  },
  {
   "cell_type": "code",
   "execution_count": 6,
   "id": "786c9844-e10f-47ec-a180-42fae2bccc61",
   "metadata": {
    "tags": []
   },
   "outputs": [
    {
     "data": {
      "text/plain": [
       "74"
      ]
     },
     "execution_count": 6,
     "metadata": {},
     "output_type": "execute_result"
    }
   ],
   "source": [
    "33+41"
   ]
  },
  {
   "cell_type": "code",
   "execution_count": 7,
   "id": "34546b8b-d694-44b2-8439-d2a136920870",
   "metadata": {
    "tags": []
   },
   "outputs": [
    {
     "data": {
      "text/plain": [
       "7"
      ]
     },
     "execution_count": 7,
     "metadata": {},
     "output_type": "execute_result"
    }
   ],
   "source": [
    "12-5"
   ]
  },
  {
   "cell_type": "code",
   "execution_count": 8,
   "id": "f76cf929-6642-473c-99e4-4dbe0fa83548",
   "metadata": {
    "tags": []
   },
   "outputs": [
    {
     "data": {
      "text/plain": [
       "90"
      ]
     },
     "execution_count": 8,
     "metadata": {},
     "output_type": "execute_result"
    }
   ],
   "source": [
    "123-54+21"
   ]
  },
  {
   "cell_type": "markdown",
   "id": "04ed245c-4a3f-4e9c-a77c-0752c56df2dc",
   "metadata": {},
   "source": [
    "***This is a simple arithmetic expression to mutiply then add integers***"
   ]
  },
  {
   "cell_type": "code",
   "execution_count": 9,
   "id": "58891bb7-a0c5-4fad-8a2a-7c92aef4cf3e",
   "metadata": {
    "tags": []
   },
   "outputs": [
    {
     "data": {
      "text/plain": [
       "17"
      ]
     },
     "execution_count": 9,
     "metadata": {},
     "output_type": "execute_result"
    }
   ],
   "source": [
    "(3*4)+5"
   ]
  },
  {
   "cell_type": "markdown",
   "id": "0c1362a3-289c-42a5-ae3f-c0e096908a59",
   "metadata": {},
   "source": [
    "***This will convert 200 minutes to hours by diving by 60***"
   ]
  },
  {
   "cell_type": "code",
   "execution_count": 11,
   "id": "228c542e-2084-439c-85a1-c4c6f3c597c1",
   "metadata": {
    "tags": []
   },
   "outputs": [
    {
     "data": {
      "text/plain": [
       "3.3333333333333335"
      ]
     },
     "execution_count": 11,
     "metadata": {},
     "output_type": "execute_result"
    }
   ],
   "source": [
    "200/60"
   ]
  },
  {
   "cell_type": "markdown",
   "id": "d8cf306c-e3ec-4674-aa74-4403d7bffb7e",
   "metadata": {},
   "source": [
    "## Author"
   ]
  },
  {
   "cell_type": "markdown",
   "id": "78bd835c-64ba-4c1e-ad59-e659801c1953",
   "metadata": {},
   "source": [
    "Tomas Sotelo\n"
   ]
  },
  {
   "cell_type": "code",
   "execution_count": null,
   "id": "0dc8378e-e784-48cb-a2e1-2183e9756474",
   "metadata": {},
   "outputs": [],
   "source": []
  }
 ],
 "metadata": {
  "kernelspec": {
   "display_name": "Python",
   "language": "python",
   "name": "conda-env-python-py"
  },
  "language_info": {
   "codemirror_mode": {
    "name": "ipython",
    "version": 3
   },
   "file_extension": ".py",
   "mimetype": "text/x-python",
   "name": "python",
   "nbconvert_exporter": "python",
   "pygments_lexer": "ipython3",
   "version": "3.7.12"
  }
 },
 "nbformat": 4,
 "nbformat_minor": 5
}
